{
 "cells": [
  {
   "cell_type": "code",
   "execution_count": 1,
   "id": "34c833b4-115d-4724-be2a-08f48b8fae49",
   "metadata": {},
   "outputs": [
    {
     "name": "stdout",
     "output_type": "stream",
     "text": [
      "collecting data for class 0\n",
      "collecting data for class 1\n",
      "collecting data for class 2\n",
      "collecting data for class 3\n",
      "collecting data for class 4\n",
      "collecting data for class 5\n",
      "collecting data for class 6\n",
      "collecting data for class 7\n",
      "collecting data for class 8\n",
      "collecting data for class 9\n",
      "collecting data for class 10\n",
      "collecting data for class 11\n",
      "collecting data for class 12\n",
      "collecting data for class 13\n",
      "collecting data for class 14\n",
      "collecting data for class 15\n",
      "collecting data for class 16\n",
      "collecting data for class 17\n",
      "collecting data for class 18\n",
      "collecting data for class 19\n",
      "collecting data for class 20\n",
      "collecting data for class 21\n",
      "collecting data for class 22\n",
      "collecting data for class 23\n",
      "collecting data for class 24\n",
      "collecting data for class 25\n",
      "collecting data for class 26\n"
     ]
    }
   ],
   "source": [
    "import os\n",
    "import cv2\n",
    "\n",
    "DATA_DIR = './data'\n",
    "if not os.path.exists(DATA_DIR):\n",
    "    os.makedirs(DATA_DIR)\n",
    "\n",
    "number_of_classes = 27\n",
    "dataset_size = 100\n",
    "\n",
    "cap = cv2.VideoCapture(1)  # Menggunakan kamera indeks 0\n",
    "\n",
    "for j in range(number_of_classes):\n",
    "    class_dir = os.path.join(DATA_DIR, str(j))\n",
    "    if not os.path.exists(class_dir):\n",
    "        os.makedirs(class_dir)\n",
    "\n",
    "    print('collecting data for class {}'.format(j))\n",
    "\n",
    "    done = False\n",
    "    while True:\n",
    "        ret, frame = cap.read()\n",
    "        if not ret:\n",
    "            print(\"Gagal mengambil frame dari kamera. Keluar...\")\n",
    "            break\n",
    "\n",
    "        cv2.putText(frame, 'Ready? press \"Q\" ! :)', (100, 50), cv2.FONT_HERSHEY_SIMPLEX, 1.3, (0, 255, 0), 3, cv2.LINE_AA)\n",
    "        cv2.imshow('frame', frame)\n",
    "\n",
    "        if cv2.waitKey(25) == ord('q'):\n",
    "            break\n",
    "\n",
    "    counter = 0\n",
    "    while counter < dataset_size:\n",
    "        ret, frame = cap.read()\n",
    "        if not ret:\n",
    "            print(\"Gagal mengambil frame dari kamera. Keluar...\")\n",
    "            break\n",
    "\n",
    "        cv2.imshow('frame', frame)\n",
    "        cv2.waitKey(25)\n",
    "        cv2.imwrite(os.path.join(class_dir, '{}.jpg'.format(counter)), frame)\n",
    "\n",
    "        counter += 1\n",
    "\n",
    "cap.release()\n",
    "cv2.destroyAllWindows()\n"
   ]
  },
  {
   "cell_type": "code",
   "execution_count": null,
   "id": "d4c4ef25-5f47-4e7f-80d1-d51be1ce7aad",
   "metadata": {},
   "outputs": [],
   "source": []
  }
 ],
 "metadata": {
  "kernelspec": {
   "display_name": "Python 3 (ipykernel)",
   "language": "python",
   "name": "python3"
  },
  "language_info": {
   "codemirror_mode": {
    "name": "ipython",
    "version": 3
   },
   "file_extension": ".py",
   "mimetype": "text/x-python",
   "name": "python",
   "nbconvert_exporter": "python",
   "pygments_lexer": "ipython3",
   "version": "3.12.3"
  }
 },
 "nbformat": 4,
 "nbformat_minor": 5
}
