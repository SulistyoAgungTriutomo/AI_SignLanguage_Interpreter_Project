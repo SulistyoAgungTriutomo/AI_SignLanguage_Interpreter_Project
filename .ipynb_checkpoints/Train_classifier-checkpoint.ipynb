{
 "cells": [
  {
   "cell_type": "code",
   "execution_count": 1,
   "id": "456d75c0-a3b3-448c-a8f0-4d67ebd0380d",
   "metadata": {},
   "outputs": [
    {
     "name": "stdout",
     "output_type": "stream",
     "text": [
      "100.00% of samples were classified correctly!!!!\n"
     ]
    }
   ],
   "source": [
    "import pickle\n",
    "\n",
    "from sklearn.ensemble import RandomForestClassifier\n",
    "from sklearn.model_selection import train_test_split\n",
    "from sklearn.metrics import accuracy_score\n",
    "import numpy as np\n",
    "\n",
    "# Load the dataset\n",
    "try:\n",
    "    with open('./data.pickle', 'rb') as f:\n",
    "        data_dict = pickle.load(f)\n",
    "except Exception as e:\n",
    "    print(f\"Error loading data: {e}\")\n",
    "    raise\n",
    "\n",
    "data = np.asarray(data_dict['data'])\n",
    "labels = np.asarray(data_dict['labels'])\n",
    "\n",
    "# Ensure data consistency\n",
    "if len(data) == 0 or len(labels) == 0:\n",
    "    raise ValueError(\"Data or labels are empty. Please check your dataset.\")\n",
    "\n",
    "if len(data) != len(labels):\n",
    "    raise ValueError(\"Mismatch between number of data points and labels.\")\n",
    "\n",
    "# Train-test split\n",
    "x_train, x_test, y_train, y_test = train_test_split(data, labels, test_size=0.2, shuffle=True, stratify=labels)\n",
    "\n",
    "# Initialize and train the model\n",
    "model = RandomForestClassifier()\n",
    "model.fit(x_train, y_train)\n",
    "\n",
    "# Make predictions and evaluate the model\n",
    "y_predict = model.predict(x_test)\n",
    "score = accuracy_score(y_predict, y_test)\n",
    "print(f'{score * 100:.2f}% of samples were classified correctly!!!!')\n",
    "\n",
    "# Save the trained model\n",
    "try:\n",
    "    with open('model.p', 'wb') as f:\n",
    "        pickle.dump({'model': model}, f)\n",
    "except Exception as e:\n",
    "    print(f\"Error saving model: {e}\")\n",
    "    raise\n"
   ]
  },
  {
   "cell_type": "code",
   "execution_count": null,
   "id": "bd2d9adc-f430-4dd0-b6d5-3f35b23174ec",
   "metadata": {},
   "outputs": [],
   "source": []
  },
  {
   "cell_type": "code",
   "execution_count": null,
   "id": "f852f8cb-9f4a-4e19-b557-0eed42ae9efa",
   "metadata": {},
   "outputs": [],
   "source": []
  }
 ],
 "metadata": {
  "kernelspec": {
   "display_name": "Python 3 (ipykernel)",
   "language": "python",
   "name": "python3"
  },
  "language_info": {
   "codemirror_mode": {
    "name": "ipython",
    "version": 3
   },
   "file_extension": ".py",
   "mimetype": "text/x-python",
   "name": "python",
   "nbconvert_exporter": "python",
   "pygments_lexer": "ipython3",
   "version": "3.12.3"
  }
 },
 "nbformat": 4,
 "nbformat_minor": 5
}
